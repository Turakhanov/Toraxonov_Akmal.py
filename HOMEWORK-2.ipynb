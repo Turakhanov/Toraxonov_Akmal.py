{
 "cells": [
  {
   "cell_type": "markdown",
   "id": "5b442097",
   "metadata": {},
   "source": [
    "1. Age Calculator\n",
    "\n",
    "Write a Python program to ask for a user's name and year of birth, then calculate and display their age."
   ]
  },
  {
   "cell_type": "code",
   "execution_count": 2,
   "id": "2b73fe65",
   "metadata": {},
   "outputs": [
    {
     "name": "stdout",
     "output_type": "stream",
     "text": [
      "Akmal you are 17 years old\n"
     ]
    }
   ],
   "source": [
    "from datetime import date\n",
    "name = input(\"Enter your name: \")\n",
    "year = int(input(\"Enter your birth year: \"))\n",
    "current = date.today().year\n",
    "age = current-year\n",
    "\n",
    "print(f\"{name} you are {age} years old\")"
   ]
  },
  {
   "cell_type": "markdown",
   "id": "0ac494e1",
   "metadata": {},
   "source": [
    "2. Extract Car Names\n"
   ]
  },
  {
   "cell_type": "code",
   "execution_count": 11,
   "id": "e8da91a1",
   "metadata": {},
   "outputs": [
    {
     "name": "stdout",
     "output_type": "stream",
     "text": [
      "Lasetti\n",
      "Malibu\n"
     ]
    }
   ],
   "source": [
    "txt = 'LMaasleitbtui'\n",
    "\n",
    "print(txt[::2])\n",
    "print(txt[1::2])"
   ]
  },
  {
   "cell_type": "markdown",
   "id": "7f3bdbb5",
   "metadata": {},
   "source": [
    "3. Extract Car Names\n"
   ]
  },
  {
   "cell_type": "code",
   "execution_count": null,
   "id": "9d199d9b",
   "metadata": {},
   "outputs": [
    {
     "name": "stdout",
     "output_type": "stream",
     "text": [
      "Damas\n",
      "Matiz\n"
     ]
    }
   ],
   "source": [
    "txt = 'MsaatmiazD'\n",
    "\n",
    "print(txt[::-2])\n",
    "print(txt[::2])"
   ]
  },
  {
   "cell_type": "markdown",
   "id": "df57039e",
   "metadata": {},
   "source": [
    "4. Extract Residence Area"
   ]
  },
  {
   "cell_type": "code",
   "execution_count": 16,
   "id": "830ef008",
   "metadata": {},
   "outputs": [
    {
     "name": "stdout",
     "output_type": "stream",
     "text": [
      "London\n"
     ]
    }
   ],
   "source": [
    "txt = \"I'am John. I am from London\"\n",
    "\n",
    "print(txt[-6::])"
   ]
  },
  {
   "cell_type": "markdown",
   "id": "119e34aa",
   "metadata": {},
   "source": [
    "5. Reverse String\n"
   ]
  },
  {
   "cell_type": "code",
   "execution_count": 18,
   "id": "5ecc381b",
   "metadata": {},
   "outputs": [
    {
     "name": "stdout",
     "output_type": "stream",
     "text": [
      "olleh\n"
     ]
    }
   ],
   "source": [
    "txt = input(\"Enter text: \")\n",
    "print(txt[::-1])"
   ]
  },
  {
   "cell_type": "markdown",
   "id": "cf9dfda1",
   "metadata": {},
   "source": [
    "6. Count Vowels\n"
   ]
  },
  {
   "cell_type": "code",
   "execution_count": 19,
   "id": "1adb8d48",
   "metadata": {},
   "outputs": [
    {
     "name": "stdout",
     "output_type": "stream",
     "text": [
      "Number of vowels:  3\n"
     ]
    }
   ],
   "source": [
    "text = input(\"Enter text: \")\n",
    "\n",
    "vowels = \"aeiou\"\n",
    "count = 0\n",
    "\n",
    "for char in text:\n",
    "    if char in vowels:\n",
    "        count+=1\n",
    "\n",
    "print(\"Number of vowels: \",count)"
   ]
  },
  {
   "cell_type": "markdown",
   "id": "e247b754",
   "metadata": {},
   "source": [
    "7. Find Maximum Value\n"
   ]
  },
  {
   "cell_type": "code",
   "execution_count": 20,
   "id": "472a17ce",
   "metadata": {},
   "outputs": [
    {
     "name": "stdout",
     "output_type": "stream",
     "text": [
      "Maximum value is:  82\n"
     ]
    }
   ],
   "source": [
    "numbers = input(\"Enter numbers separated by comma\")\n",
    "numbers = [int(num) for num in numbers.split(\",\")]\n",
    "maximum = max(numbers)\n",
    "\n",
    "print(\"Maximum value is: \",maximum)"
   ]
  },
  {
   "cell_type": "markdown",
   "id": "aeef3d95",
   "metadata": {},
   "source": [
    "8. Check Palindrome\n"
   ]
  },
  {
   "cell_type": "code",
   "execution_count": 21,
   "id": "ea093c66",
   "metadata": {},
   "outputs": [
    {
     "name": "stdout",
     "output_type": "stream",
     "text": [
      "Bu so'z polindrome emas!\n"
     ]
    }
   ],
   "source": [
    "text = input(\"Enter text: \")\n",
    "p = text[::-1]\n",
    "\n",
    "if p == text:\n",
    "    print(\"Bu so'z polindrome!\")\n",
    "else:\n",
    "    print(\"Bu so'z polindrome emas!\")"
   ]
  },
  {
   "cell_type": "markdown",
   "id": "ff2817d9",
   "metadata": {},
   "source": [
    "9. Extract Email Domain\n"
   ]
  },
  {
   "cell_type": "code",
   "execution_count": 22,
   "id": "54013dc4",
   "metadata": {},
   "outputs": [
    {
     "name": "stdout",
     "output_type": "stream",
     "text": [
      "Domain is:  gmail.com\n"
     ]
    }
   ],
   "source": [
    "email = input(\"Enter your email: \")\n",
    "domain = email.split(\"@\")[-1]\n",
    "\n",
    "print(\"Domain is: \",domain)"
   ]
  },
  {
   "cell_type": "markdown",
   "id": "9ff940fc",
   "metadata": {},
   "source": [
    "10. Generate Random Password\n"
   ]
  },
  {
   "cell_type": "code",
   "execution_count": 25,
   "id": "4d8be98c",
   "metadata": {},
   "outputs": [
    {
     "name": "stdout",
     "output_type": "stream",
     "text": [
      "Your random password:  8%W#@)lAo!_2\n"
     ]
    }
   ],
   "source": [
    "import random\n",
    "import string\n",
    "\n",
    "length = int(input(\"Enter the length of your password: \"))\n",
    "\n",
    "characters = string.ascii_letters+string.digits+string.punctuation\n",
    "password = ''.join(random.choice(characters) for _ in range(length))\n",
    "print(\"Your random password: \",password)"
   ]
  }
 ],
 "metadata": {
  "kernelspec": {
   "display_name": "Python 3",
   "language": "python",
   "name": "python3"
  },
  "language_info": {
   "codemirror_mode": {
    "name": "ipython",
    "version": 3
   },
   "file_extension": ".py",
   "mimetype": "text/x-python",
   "name": "python",
   "nbconvert_exporter": "python",
   "pygments_lexer": "ipython3",
   "version": "3.13.7"
  }
 },
 "nbformat": 4,
 "nbformat_minor": 5
}

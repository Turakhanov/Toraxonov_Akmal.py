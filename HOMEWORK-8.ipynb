{
 "cells": [
  {
   "cell_type": "markdown",
   "id": "7ab66c74",
   "metadata": {},
   "source": [
    "1. Write a Python program to handle a ZeroDivisionError exception when dividing a number by zero.\n",
    "\n"
   ]
  },
  {
   "cell_type": "code",
   "execution_count": 2,
   "id": "1480e728",
   "metadata": {},
   "outputs": [
    {
     "name": "stdout",
     "output_type": "stream",
     "text": [
      "5.0\n"
     ]
    }
   ],
   "source": [
    "try:\n",
    "    nominator = int(input(\"Enter nomitator: \"))\n",
    "    denominator = int(input(\"Enter denominator: \"))\n",
    "\n",
    "\n",
    "    print(nominator/denominator)\n",
    "except ZeroDivisionError:\n",
    "    print(\"Can't divide by zero!\")\n",
    "\n"
   ]
  },
  {
   "cell_type": "markdown",
   "id": "fd016c98",
   "metadata": {},
   "source": [
    "2. Write a Python program that prompts the user to input an integer and raises a ValueError exception if the input is not a valid integer.\n",
    "\n"
   ]
  },
  {
   "cell_type": "code",
   "execution_count": 6,
   "id": "8163d336",
   "metadata": {},
   "outputs": [
    {
     "name": "stdout",
     "output_type": "stream",
     "text": [
      "It's not integer!\n"
     ]
    }
   ],
   "source": [
    "try:\n",
    "    n = int(input(\"Enter integer only: \"))\n",
    "    print(\"You entered\",n)\n",
    "except ValueError:\n",
    "    print(\"It's not integer!\")   "
   ]
  },
  {
   "cell_type": "markdown",
   "id": "757c482f",
   "metadata": {},
   "source": [
    "3. Write a Python program that opens a file and handles a FileNotFoundError exception if the file does not exist.\n",
    "\n"
   ]
  },
  {
   "cell_type": "code",
   "execution_count": 8,
   "id": "1400c51d",
   "metadata": {},
   "outputs": [
    {
     "name": "stdout",
     "output_type": "stream",
     "text": [
      "File not found!\n"
     ]
    }
   ],
   "source": [
    "try:\n",
    "    f = open(\"data.txt\")\n",
    "    print(f.read)\n",
    "except FileNotFoundError:\n",
    "    print(\"File not found!\")\n"
   ]
  },
  {
   "cell_type": "markdown",
   "id": "36172506",
   "metadata": {},
   "source": [
    "4. Write a Python program that prompts the user to input two numbers and raises a TypeError exception if the inputs are not numerical.\n",
    "\n"
   ]
  },
  {
   "cell_type": "code",
   "execution_count": 13,
   "id": "3f728441",
   "metadata": {},
   "outputs": [
    {
     "name": "stdout",
     "output_type": "stream",
     "text": [
      "Inputs are not numerical!\n"
     ]
    }
   ],
   "source": [
    "try:\n",
    "    a = int(input(\"Enter first number: \"))\n",
    "    b = int(input(\"Enter second number: \"))\n",
    "    print(f'You entered {a} and {b}')\n",
    "except ValueError:\n",
    "        print(\"Inputs are not numerical!\")"
   ]
  },
  {
   "cell_type": "markdown",
   "id": "1720eea0",
   "metadata": {},
   "source": [
    "5. Write a Python program that opens a file and handles a PermissionError exception if there is a permission issue.\n",
    "\n"
   ]
  },
  {
   "cell_type": "code",
   "execution_count": 17,
   "id": "e8b20a84",
   "metadata": {},
   "outputs": [
    {
     "name": "stdout",
     "output_type": "stream",
     "text": [
      "File with that name not found!\n"
     ]
    }
   ],
   "source": [
    "try:\n",
    "    file = open(\"data.txt\",\"r\")\n",
    "    print(file.read())\n",
    "except PermissionError:\n",
    "    print(\"Permission denied! You don't have access to this file!\")\n",
    "except FileNotFoundError:\n",
    "    print(\"File with that name not found!\")"
   ]
  },
  {
   "cell_type": "markdown",
   "id": "34c895ac",
   "metadata": {},
   "source": [
    "6. Write a Python program that executes an operation on a list and handles an IndexError exception if the index is out of range.\n",
    "\n"
   ]
  },
  {
   "cell_type": "code",
   "execution_count": 20,
   "id": "ac456d1a",
   "metadata": {},
   "outputs": [
    {
     "name": "stdout",
     "output_type": "stream",
     "text": [
      "Index out of range!\n"
     ]
    }
   ],
   "source": [
    "numbers = [1,2,3,4,5]\n",
    "try:\n",
    "    index = int(input(\"Enter index: \"))\n",
    "    print(f'Element at index {index} is {numbers[index]}')\n",
    "except IndexError:\n",
    "    print(\"Index out of range!\")\n",
    "    \n"
   ]
  },
  {
   "cell_type": "markdown",
   "id": "ad710ffd",
   "metadata": {},
   "source": [
    "7. Write a Python program that prompts the user to input a number and handles a KeyboardInterrupt exception if the user cancels the input.\n",
    "\n"
   ]
  },
  {
   "cell_type": "code",
   "execution_count": 22,
   "id": "53ac63e8",
   "metadata": {},
   "outputs": [
    {
     "name": "stdout",
     "output_type": "stream",
     "text": [
      "7\n"
     ]
    }
   ],
   "source": [
    "try:\n",
    "    num = int(input(\"Enter a number: \"))\n",
    "    print(num)\n",
    "except KeyboardInterrupt:\n",
    "    print(\"Input is canceled by the user\")    "
   ]
  },
  {
   "cell_type": "markdown",
   "id": "8df8aace",
   "metadata": {},
   "source": [
    "8. Write a Python program that executes division and handles an ArithmeticError exception if there is an arithmetic error.\n",
    "\n"
   ]
  },
  {
   "cell_type": "code",
   "execution_count": 23,
   "id": "df0bb34d",
   "metadata": {},
   "outputs": [
    {
     "name": "stdout",
     "output_type": "stream",
     "text": [
      "An arithmetic error occurred! Maybe you tried to divide by zero?\n"
     ]
    }
   ],
   "source": [
    "try:\n",
    "    a = float(input(\"Enter the numerator: \"))\n",
    "    b = float(input(\"Enter the denominator: \"))\n",
    "    result = a / b\n",
    "    print(\"Result:\", result)\n",
    "except ArithmeticError:\n",
    "    print(\"An arithmetic error occurred! Maybe you tried to divide by zero?\")\n"
   ]
  },
  {
   "cell_type": "markdown",
   "id": "f74649a7",
   "metadata": {},
   "source": [
    "9. Write a Python program that opens a file and handles a UnicodeDecodeError exception if there is an encoding issue.\n",
    "\n"
   ]
  },
  {
   "cell_type": "code",
   "execution_count": null,
   "id": "79f6b8a0",
   "metadata": {},
   "outputs": [],
   "source": [
    "try:\n",
    "    f = open(\"data.txt\")\n",
    "    f.read()\n",
    "except UnicodeDecodeError:\n",
    "    print(\"There was an encoding issue!\")\n"
   ]
  },
  {
   "cell_type": "markdown",
   "id": "9162200e",
   "metadata": {},
   "source": [
    "10. Write a Python program that executes a list operation and handles an AttributeError exception if the attribute does not exist.\n",
    "\n"
   ]
  },
  {
   "cell_type": "code",
   "execution_count": 26,
   "id": "d8ffca63",
   "metadata": {},
   "outputs": [
    {
     "name": "stdout",
     "output_type": "stream",
     "text": [
      "Attributes does not exist for this objects!\n"
     ]
    }
   ],
   "source": [
    "try:\n",
    "    data = [1,2,3]\n",
    "    print(data.lower())\n",
    "    print(data.upper())\n",
    "except AttributeError:\n",
    "    print(\"Attributes does not exist for this objects!\")"
   ]
  },
  {
   "cell_type": "markdown",
   "id": "658ff320",
   "metadata": {},
   "source": [
    "1. Write a Python program to read an entire text file.\n",
    "\n"
   ]
  },
  {
   "cell_type": "code",
   "execution_count": null,
   "id": "bab34b94",
   "metadata": {},
   "outputs": [],
   "source": [
    "with open(\"data.txt\",\"r\") as file:\n",
    "    content = file.read()\n",
    "    print(content)"
   ]
  },
  {
   "cell_type": "markdown",
   "id": "dbbe6d17",
   "metadata": {},
   "source": [
    "2. Write a Python program to read first n lines of a file.\n",
    "\n"
   ]
  },
  {
   "cell_type": "code",
   "execution_count": null,
   "id": "286d159f",
   "metadata": {},
   "outputs": [],
   "source": [
    "n = 5\n",
    "with open(\"data.txt\",\"r\") as file:\n",
    "    lines = file.readlines()\n",
    "    for line in lines[:n]:\n",
    "        print(line.strip())"
   ]
  },
  {
   "cell_type": "markdown",
   "id": "501d35fa",
   "metadata": {},
   "source": [
    "Write a Python program to append text to a file and display the text.\n",
    "\n"
   ]
  },
  {
   "cell_type": "code",
   "execution_count": 29,
   "id": "eaec04b3",
   "metadata": {},
   "outputs": [
    {
     "name": "stdout",
     "output_type": "stream",
     "text": [
      "{\n",
      " \"cells\": [\n",
      "  {\n",
      "   \"cell_type\": \"markdown\",\n",
      "   \"id\": \"38924f01\",\n",
      "   \"metadata\": {},\n",
      "   \"source\": [\n",
      "    \"1. Given a side of square. Find its perimeter and area.\\n\"\n",
      "   ]\n",
      "  },\n",
      "  {\n",
      "   \"cell_type\": \"code\",\n",
      "   \"execution_count\": 3,\n",
      "   \"id\": \"e09189eb\",\n",
      "   \"metadata\": {},\n",
      "   \"outputs\": [\n",
      "    {\n",
      "     \"name\": \"stdout\",\n",
      "     \"output_type\": \"stream\",\n",
      "     \"text\": [\n",
      "      \"Perimeter:  28.0\\n\",\n",
      "      \"Area:  49.0\\n\"\n",
      "     ]\n",
      "    }\n",
      "   ],\n",
      "   \"source\": [\n",
      "    \"side = float(input(\\\"Enter side: \\\"))\\n\",\n",
      "    \"\\n\",\n",
      "    \"p = side*4\\n\",\n",
      "    \"a = side**2\\n\",\n",
      "    \"\\n\",\n",
      "    \"print(\\\"Perimeter: \\\",p)\\n\",\n",
      "    \"print(\\\"Area: \\\",a)\"\n",
      "   ]\n",
      "  },\n",
      "  {\n",
      "   \"cell_type\": \"markdown\",\n",
      "   \"id\": \"3ad37b7a\",\n",
      "   \"metadata\": {},\n",
      "   \"source\": [\n",
      "    \"2. Given diameter of circle. Find its length.\\n\"\n",
      "   ]\n",
      "  },\n",
      "  {\n",
      "   \"cell_type\": \"code\",\n",
      "   \"execution_count\": 5,\n",
      "   \"id\": \"df216a9d\",\n",
      "   \"metadata\": {},\n",
      "   \"outputs\": [\n",
      "    {\n",
      "     \"name\": \"stdout\",\n",
      "     \"output_type\": \"stream\",\n",
      "     \"text\": [\n",
      "      \"Length:  18.84955592153876\\n\"\n",
      "     ]\n",
      "    }\n",
      "   ],\n",
      "   \"source\": [\n",
      "    \"import math\\n\",\n",
      "    \"d = float(input(\\\"Enter deameter: \\\"))\\n\",\n",
      "    \"\\n\",\n",
      "    \"l = math.pi*d\\n\",\n",
      "    \"\\n\",\n",
      "    \"print(\\\"Length: \\\",l)\"\n",
      "   ]\n",
      "  },\n",
      "  {\n",
      "   \"cell_type\": \"markdown\",\n",
      "   \"id\": \"fc7861ca\",\n",
      "   \"metadata\": {},\n",
      "   \"source\": [\n",
      "    \"3. Given two numbers a and b. Find their mean.\\n\"\n",
      "   ]\n",
      "  },\n",
      "  {\n",
      "   \"cell_type\": \"code\",\n",
      "   \"execution_count\": 6,\n",
      "   \"id\": \"5775dba2\",\n",
      "   \"metadata\": {},\n",
      "   \"outputs\": [\n",
      "    {\n",
      "     \"name\": \"stdout\",\n",
      "     \"output_type\": \"stream\",\n",
      "     \"text\": [\n",
      "      \"Mean:  5.5\\n\"\n",
      "     ]\n",
      "    }\n",
      "   ],\n",
      "   \"source\": [\n",
      "    \"a = float(input(\\\"Enter a: \\\"))\\n\",\n",
      "    \"b = float(input(\\\"Enter b: \\\"))\\n\",\n",
      "    \"\\n\",\n",
      "    \"print(\\\"Mean: \\\",(a+b)/2)\\n\"\n",
      "   ]\n",
      "  },\n",
      "  {\n",
      "   \"cell_type\": \"markdown\",\n",
      "   \"id\": \"dc1588bf\",\n",
      "   \"metadata\": {},\n",
      "   \"source\": [\n",
      "    \"4. Given two numbers a and b. Find their sum, product and square of each number.\\n\"\n",
      "   ]\n",
      "  },\n",
      "  {\n",
      "   \"cell_type\": \"code\",\n",
      "   \"execution_count\": 7,\n",
      "   \"id\": \"a69c1894\",\n",
      "   \"metadata\": {},\n",
      "   \"outputs\": [\n",
      "    {\n",
      "     \"name\": \"stdout\",\n",
      "     \"output_type\": \"stream\",\n",
      "     \"text\": [\n",
      "      \"Sum:  15.0\\n\",\n",
      "      \"Product:  56.0\\n\",\n",
      "      \"Square:  49.0  and  64.0\\n\"\n",
      "     ]\n",
      "    }\n",
      "   ],\n",
      "   \"source\": [\n",
      "    \"a = float(input(\\\"Enter a: \\\"))\\n\",\n",
      "    \"b = float(input(\\\"Enter b: \\\"))\\n\",\n",
      "    \"\\n\",\n",
      "    \"print(\\\"Sum: \\\",a+b)\\n\",\n",
      "    \"print(\\\"Product: \\\",a*b)\\n\",\n",
      "    \"print(\\\"Square: \\\",a**2,\\\" and \\\",b**2)\"\n",
      "   ]\n",
      "  }\n",
      " ],\n",
      " \"metadata\": {\n",
      "  \"kernelspec\": {\n",
      "   \"display_name\": \"Python 3\",\n",
      "   \"language\": \"python\",\n",
      "   \"name\": \"python3\"\n",
      "  },\n",
      "  \"language_info\": {\n",
      "   \"codemirror_mode\": {\n",
      "    \"name\": \"ipython\",\n",
      "    \"version\": 3\n",
      "   },\n",
      "   \"file_extension\": \".py\",\n",
      "   \"mimetype\": \"text/x-python\",\n",
      "   \"name\": \"python\",\n",
      "   \"nbconvert_exporter\": \"python\",\n",
      "   \"pygments_lexer\": \"ipython3\",\n",
      "   \"version\": \"3.13.7\"\n",
      "  }\n",
      " },\n",
      " \"nbformat\": 4,\n",
      " \"nbformat_minor\": 5\n",
      "}\n",
      "\n",
      " New line is added\n"
     ]
    }
   ],
   "source": [
    "with open(\"HOMEWORK-1.ipynb\",\"a\") as file:\n",
    "    file.write(\"\\n New line is added\")\n",
    "\n",
    "with open(\"HOMEWORK-1.ipynb\",\"r\") as file:\n",
    "    content = file.read()\n",
    "    print(content)"
   ]
  },
  {
   "cell_type": "markdown",
   "id": "b9baa7c2",
   "metadata": {},
   "source": [
    "Write a Python program to read last n lines of a file.\n",
    "\n"
   ]
  },
  {
   "cell_type": "code",
   "execution_count": 31,
   "id": "296944d1",
   "metadata": {},
   "outputs": [
    {
     "name": "stdout",
     "output_type": "stream",
     "text": [
      "\"nbformat\": 4,\n",
      "\"nbformat_minor\": 5\n",
      "}\n",
      "\n",
      "New line is added\n"
     ]
    }
   ],
   "source": [
    "n = 5\n",
    "\n",
    "with open(\"HOMEWORK-1.ipynb\", \"r\") as file:\n",
    "    lines = file.readlines()\n",
    "\n",
    "    for line in lines[-n:]:\n",
    "        print(line.strip())"
   ]
  },
  {
   "cell_type": "markdown",
   "id": "18763d55",
   "metadata": {},
   "source": [
    "Write a Python program to read a file line by line and store it into a list.\n",
    "\n"
   ]
  },
  {
   "cell_type": "code",
   "execution_count": 32,
   "id": "907a4f8b",
   "metadata": {},
   "outputs": [
    {
     "name": "stdout",
     "output_type": "stream",
     "text": [
      "['{', '\"cells\": [', '{', '\"cell_type\": \"markdown\",', '\"id\": \"38924f01\",', '\"metadata\": {},', '\"source\": [', '\"1. Given a side of square. Find its perimeter and area.\\\\n\"', ']', '},', '{', '\"cell_type\": \"code\",', '\"execution_count\": 3,', '\"id\": \"e09189eb\",', '\"metadata\": {},', '\"outputs\": [', '{', '\"name\": \"stdout\",', '\"output_type\": \"stream\",', '\"text\": [', '\"Perimeter:  28.0\\\\n\",', '\"Area:  49.0\\\\n\"', ']', '}', '],', '\"source\": [', '\"side = float(input(\\\\\"Enter side: \\\\\"))\\\\n\",', '\"\\\\n\",', '\"p = side*4\\\\n\",', '\"a = side**2\\\\n\",', '\"\\\\n\",', '\"print(\\\\\"Perimeter: \\\\\",p)\\\\n\",', '\"print(\\\\\"Area: \\\\\",a)\"', ']', '},', '{', '\"cell_type\": \"markdown\",', '\"id\": \"3ad37b7a\",', '\"metadata\": {},', '\"source\": [', '\"2. Given diameter of circle. Find its length.\\\\n\"', ']', '},', '{', '\"cell_type\": \"code\",', '\"execution_count\": 5,', '\"id\": \"df216a9d\",', '\"metadata\": {},', '\"outputs\": [', '{', '\"name\": \"stdout\",', '\"output_type\": \"stream\",', '\"text\": [', '\"Length:  18.84955592153876\\\\n\"', ']', '}', '],', '\"source\": [', '\"import math\\\\n\",', '\"d = float(input(\\\\\"Enter deameter: \\\\\"))\\\\n\",', '\"\\\\n\",', '\"l = math.pi*d\\\\n\",', '\"\\\\n\",', '\"print(\\\\\"Length: \\\\\",l)\"', ']', '},', '{', '\"cell_type\": \"markdown\",', '\"id\": \"fc7861ca\",', '\"metadata\": {},', '\"source\": [', '\"3. Given two numbers a and b. Find their mean.\\\\n\"', ']', '},', '{', '\"cell_type\": \"code\",', '\"execution_count\": 6,', '\"id\": \"5775dba2\",', '\"metadata\": {},', '\"outputs\": [', '{', '\"name\": \"stdout\",', '\"output_type\": \"stream\",', '\"text\": [', '\"Mean:  5.5\\\\n\"', ']', '}', '],', '\"source\": [', '\"a = float(input(\\\\\"Enter a: \\\\\"))\\\\n\",', '\"b = float(input(\\\\\"Enter b: \\\\\"))\\\\n\",', '\"\\\\n\",', '\"print(\\\\\"Mean: \\\\\",(a+b)/2)\\\\n\"', ']', '},', '{', '\"cell_type\": \"markdown\",', '\"id\": \"dc1588bf\",', '\"metadata\": {},', '\"source\": [', '\"4. Given two numbers a and b. Find their sum, product and square of each number.\\\\n\"', ']', '},', '{', '\"cell_type\": \"code\",', '\"execution_count\": 7,', '\"id\": \"a69c1894\",', '\"metadata\": {},', '\"outputs\": [', '{', '\"name\": \"stdout\",', '\"output_type\": \"stream\",', '\"text\": [', '\"Sum:  15.0\\\\n\",', '\"Product:  56.0\\\\n\",', '\"Square:  49.0  and  64.0\\\\n\"', ']', '}', '],', '\"source\": [', '\"a = float(input(\\\\\"Enter a: \\\\\"))\\\\n\",', '\"b = float(input(\\\\\"Enter b: \\\\\"))\\\\n\",', '\"\\\\n\",', '\"print(\\\\\"Sum: \\\\\",a+b)\\\\n\",', '\"print(\\\\\"Product: \\\\\",a*b)\\\\n\",', '\"print(\\\\\"Square: \\\\\",a**2,\\\\\" and \\\\\",b**2)\"', ']', '}', '],', '\"metadata\": {', '\"kernelspec\": {', '\"display_name\": \"Python 3\",', '\"language\": \"python\",', '\"name\": \"python3\"', '},', '\"language_info\": {', '\"codemirror_mode\": {', '\"name\": \"ipython\",', '\"version\": 3', '},', '\"file_extension\": \".py\",', '\"mimetype\": \"text/x-python\",', '\"name\": \"python\",', '\"nbconvert_exporter\": \"python\",', '\"pygments_lexer\": \"ipython3\",', '\"version\": \"3.13.7\"', '}', '},', '\"nbformat\": 4,', '\"nbformat_minor\": 5', '}', '', 'New line is added']\n"
     ]
    }
   ],
   "source": [
    "with open(\"HOMEWORK-1.ipynb\", \"r\") as file:\n",
    "    lines = file.readlines()\n",
    "\n",
    "clean = [line.strip() for line in lines]\n",
    "print(clean)"
   ]
  },
  {
   "cell_type": "markdown",
   "id": "e7a60001",
   "metadata": {},
   "source": [
    "Write a Python program to read a file line by line and store it into a variable.\n",
    "\n"
   ]
  },
  {
   "cell_type": "code",
   "execution_count": 33,
   "id": "f405fa43",
   "metadata": {},
   "outputs": [
    {
     "name": "stdout",
     "output_type": "stream",
     "text": [
      "{\n",
      " \"cells\": [\n",
      "  {\n",
      "   \"cell_type\": \"markdown\",\n",
      "   \"id\": \"38924f01\",\n",
      "   \"metadata\": {},\n",
      "   \"source\": [\n",
      "    \"1. Given a side of square. Find its perimeter and area.\\n\"\n",
      "   ]\n",
      "  },\n",
      "  {\n",
      "   \"cell_type\": \"code\",\n",
      "   \"execution_count\": 3,\n",
      "   \"id\": \"e09189eb\",\n",
      "   \"metadata\": {},\n",
      "   \"outputs\": [\n",
      "    {\n",
      "     \"name\": \"stdout\",\n",
      "     \"output_type\": \"stream\",\n",
      "     \"text\": [\n",
      "      \"Perimeter:  28.0\\n\",\n",
      "      \"Area:  49.0\\n\"\n",
      "     ]\n",
      "    }\n",
      "   ],\n",
      "   \"source\": [\n",
      "    \"side = float(input(\\\"Enter side: \\\"))\\n\",\n",
      "    \"\\n\",\n",
      "    \"p = side*4\\n\",\n",
      "    \"a = side**2\\n\",\n",
      "    \"\\n\",\n",
      "    \"print(\\\"Perimeter: \\\",p)\\n\",\n",
      "    \"print(\\\"Area: \\\",a)\"\n",
      "   ]\n",
      "  },\n",
      "  {\n",
      "   \"cell_type\": \"markdown\",\n",
      "   \"id\": \"3ad37b7a\",\n",
      "   \"metadata\": {},\n",
      "   \"source\": [\n",
      "    \"2. Given diameter of circle. Find its length.\\n\"\n",
      "   ]\n",
      "  },\n",
      "  {\n",
      "   \"cell_type\": \"code\",\n",
      "   \"execution_count\": 5,\n",
      "   \"id\": \"df216a9d\",\n",
      "   \"metadata\": {},\n",
      "   \"outputs\": [\n",
      "    {\n",
      "     \"name\": \"stdout\",\n",
      "     \"output_type\": \"stream\",\n",
      "     \"text\": [\n",
      "      \"Length:  18.84955592153876\\n\"\n",
      "     ]\n",
      "    }\n",
      "   ],\n",
      "   \"source\": [\n",
      "    \"import math\\n\",\n",
      "    \"d = float(input(\\\"Enter deameter: \\\"))\\n\",\n",
      "    \"\\n\",\n",
      "    \"l = math.pi*d\\n\",\n",
      "    \"\\n\",\n",
      "    \"print(\\\"Length: \\\",l)\"\n",
      "   ]\n",
      "  },\n",
      "  {\n",
      "   \"cell_type\": \"markdown\",\n",
      "   \"id\": \"fc7861ca\",\n",
      "   \"metadata\": {},\n",
      "   \"source\": [\n",
      "    \"3. Given two numbers a and b. Find their mean.\\n\"\n",
      "   ]\n",
      "  },\n",
      "  {\n",
      "   \"cell_type\": \"code\",\n",
      "   \"execution_count\": 6,\n",
      "   \"id\": \"5775dba2\",\n",
      "   \"metadata\": {},\n",
      "   \"outputs\": [\n",
      "    {\n",
      "     \"name\": \"stdout\",\n",
      "     \"output_type\": \"stream\",\n",
      "     \"text\": [\n",
      "      \"Mean:  5.5\\n\"\n",
      "     ]\n",
      "    }\n",
      "   ],\n",
      "   \"source\": [\n",
      "    \"a = float(input(\\\"Enter a: \\\"))\\n\",\n",
      "    \"b = float(input(\\\"Enter b: \\\"))\\n\",\n",
      "    \"\\n\",\n",
      "    \"print(\\\"Mean: \\\",(a+b)/2)\\n\"\n",
      "   ]\n",
      "  },\n",
      "  {\n",
      "   \"cell_type\": \"markdown\",\n",
      "   \"id\": \"dc1588bf\",\n",
      "   \"metadata\": {},\n",
      "   \"source\": [\n",
      "    \"4. Given two numbers a and b. Find their sum, product and square of each number.\\n\"\n",
      "   ]\n",
      "  },\n",
      "  {\n",
      "   \"cell_type\": \"code\",\n",
      "   \"execution_count\": 7,\n",
      "   \"id\": \"a69c1894\",\n",
      "   \"metadata\": {},\n",
      "   \"outputs\": [\n",
      "    {\n",
      "     \"name\": \"stdout\",\n",
      "     \"output_type\": \"stream\",\n",
      "     \"text\": [\n",
      "      \"Sum:  15.0\\n\",\n",
      "      \"Product:  56.0\\n\",\n",
      "      \"Square:  49.0  and  64.0\\n\"\n",
      "     ]\n",
      "    }\n",
      "   ],\n",
      "   \"source\": [\n",
      "    \"a = float(input(\\\"Enter a: \\\"))\\n\",\n",
      "    \"b = float(input(\\\"Enter b: \\\"))\\n\",\n",
      "    \"\\n\",\n",
      "    \"print(\\\"Sum: \\\",a+b)\\n\",\n",
      "    \"print(\\\"Product: \\\",a*b)\\n\",\n",
      "    \"print(\\\"Square: \\\",a**2,\\\" and \\\",b**2)\"\n",
      "   ]\n",
      "  }\n",
      " ],\n",
      " \"metadata\": {\n",
      "  \"kernelspec\": {\n",
      "   \"display_name\": \"Python 3\",\n",
      "   \"language\": \"python\",\n",
      "   \"name\": \"python3\"\n",
      "  },\n",
      "  \"language_info\": {\n",
      "   \"codemirror_mode\": {\n",
      "    \"name\": \"ipython\",\n",
      "    \"version\": 3\n",
      "   },\n",
      "   \"file_extension\": \".py\",\n",
      "   \"mimetype\": \"text/x-python\",\n",
      "   \"name\": \"python\",\n",
      "   \"nbconvert_exporter\": \"python\",\n",
      "   \"pygments_lexer\": \"ipython3\",\n",
      "   \"version\": \"3.13.7\"\n",
      "  }\n",
      " },\n",
      " \"nbformat\": 4,\n",
      " \"nbformat_minor\": 5\n",
      "}\n",
      "\n",
      " New line is added\n"
     ]
    }
   ],
   "source": [
    "with open(\"HOMEWORK-1.ipynb\", \"r\") as file:\n",
    "    content = \"\"\n",
    "    for line in file:\n",
    "        content += line\n",
    "\n",
    "print(content)"
   ]
  },
  {
   "cell_type": "markdown",
   "id": "e4b1f225",
   "metadata": {},
   "source": [
    "Write a Python program to read a file line by line and store it into an array.\n",
    "\n"
   ]
  },
  {
   "cell_type": "code",
   "execution_count": 34,
   "id": "ac41b06b",
   "metadata": {},
   "outputs": [
    {
     "name": "stdout",
     "output_type": "stream",
     "text": [
      "['{', '\"cells\": [', '{', '\"cell_type\": \"markdown\",', '\"id\": \"38924f01\",', '\"metadata\": {},', '\"source\": [', '\"1. Given a side of square. Find its perimeter and area.\\\\n\"', ']', '},', '{', '\"cell_type\": \"code\",', '\"execution_count\": 3,', '\"id\": \"e09189eb\",', '\"metadata\": {},', '\"outputs\": [', '{', '\"name\": \"stdout\",', '\"output_type\": \"stream\",', '\"text\": [', '\"Perimeter:  28.0\\\\n\",', '\"Area:  49.0\\\\n\"', ']', '}', '],', '\"source\": [', '\"side = float(input(\\\\\"Enter side: \\\\\"))\\\\n\",', '\"\\\\n\",', '\"p = side*4\\\\n\",', '\"a = side**2\\\\n\",', '\"\\\\n\",', '\"print(\\\\\"Perimeter: \\\\\",p)\\\\n\",', '\"print(\\\\\"Area: \\\\\",a)\"', ']', '},', '{', '\"cell_type\": \"markdown\",', '\"id\": \"3ad37b7a\",', '\"metadata\": {},', '\"source\": [', '\"2. Given diameter of circle. Find its length.\\\\n\"', ']', '},', '{', '\"cell_type\": \"code\",', '\"execution_count\": 5,', '\"id\": \"df216a9d\",', '\"metadata\": {},', '\"outputs\": [', '{', '\"name\": \"stdout\",', '\"output_type\": \"stream\",', '\"text\": [', '\"Length:  18.84955592153876\\\\n\"', ']', '}', '],', '\"source\": [', '\"import math\\\\n\",', '\"d = float(input(\\\\\"Enter deameter: \\\\\"))\\\\n\",', '\"\\\\n\",', '\"l = math.pi*d\\\\n\",', '\"\\\\n\",', '\"print(\\\\\"Length: \\\\\",l)\"', ']', '},', '{', '\"cell_type\": \"markdown\",', '\"id\": \"fc7861ca\",', '\"metadata\": {},', '\"source\": [', '\"3. Given two numbers a and b. Find their mean.\\\\n\"', ']', '},', '{', '\"cell_type\": \"code\",', '\"execution_count\": 6,', '\"id\": \"5775dba2\",', '\"metadata\": {},', '\"outputs\": [', '{', '\"name\": \"stdout\",', '\"output_type\": \"stream\",', '\"text\": [', '\"Mean:  5.5\\\\n\"', ']', '}', '],', '\"source\": [', '\"a = float(input(\\\\\"Enter a: \\\\\"))\\\\n\",', '\"b = float(input(\\\\\"Enter b: \\\\\"))\\\\n\",', '\"\\\\n\",', '\"print(\\\\\"Mean: \\\\\",(a+b)/2)\\\\n\"', ']', '},', '{', '\"cell_type\": \"markdown\",', '\"id\": \"dc1588bf\",', '\"metadata\": {},', '\"source\": [', '\"4. Given two numbers a and b. Find their sum, product and square of each number.\\\\n\"', ']', '},', '{', '\"cell_type\": \"code\",', '\"execution_count\": 7,', '\"id\": \"a69c1894\",', '\"metadata\": {},', '\"outputs\": [', '{', '\"name\": \"stdout\",', '\"output_type\": \"stream\",', '\"text\": [', '\"Sum:  15.0\\\\n\",', '\"Product:  56.0\\\\n\",', '\"Square:  49.0  and  64.0\\\\n\"', ']', '}', '],', '\"source\": [', '\"a = float(input(\\\\\"Enter a: \\\\\"))\\\\n\",', '\"b = float(input(\\\\\"Enter b: \\\\\"))\\\\n\",', '\"\\\\n\",', '\"print(\\\\\"Sum: \\\\\",a+b)\\\\n\",', '\"print(\\\\\"Product: \\\\\",a*b)\\\\n\",', '\"print(\\\\\"Square: \\\\\",a**2,\\\\\" and \\\\\",b**2)\"', ']', '}', '],', '\"metadata\": {', '\"kernelspec\": {', '\"display_name\": \"Python 3\",', '\"language\": \"python\",', '\"name\": \"python3\"', '},', '\"language_info\": {', '\"codemirror_mode\": {', '\"name\": \"ipython\",', '\"version\": 3', '},', '\"file_extension\": \".py\",', '\"mimetype\": \"text/x-python\",', '\"name\": \"python\",', '\"nbconvert_exporter\": \"python\",', '\"pygments_lexer\": \"ipython3\",', '\"version\": \"3.13.7\"', '}', '},', '\"nbformat\": 4,', '\"nbformat_minor\": 5', '}', '', 'New line is added']\n"
     ]
    }
   ],
   "source": [
    "with open(\"HOMEWORK-1.ipynb\", \"r\") as file:\n",
    "    arr = [line.strip() for line in file]\n",
    "\n",
    "print(arr)"
   ]
  },
  {
   "cell_type": "markdown",
   "id": "57aced54",
   "metadata": {},
   "source": [
    "Write a Python program to find the longest words.\n",
    "\n"
   ]
  },
  {
   "cell_type": "code",
   "execution_count": 35,
   "id": "0ceca8f0",
   "metadata": {},
   "outputs": [
    {
     "name": "stdout",
     "output_type": "stream",
     "text": [
      "Longest word is:  ['\"nbconvert_exporter\":']\n"
     ]
    }
   ],
   "source": [
    "with open(\"HOMEWORK-1.ipynb\", \"r\") as file:\n",
    "    text = file.read()\n",
    "\n",
    "words = text.split()\n",
    "max_length = len(max(words, key=len))\n",
    "longest_word = [word for word in words if len(word)==max_length]\n",
    "\n",
    "print(\"Longest word is: \", longest_word)\n"
   ]
  },
  {
   "cell_type": "markdown",
   "id": "b6eabb6c",
   "metadata": {},
   "source": [
    "Write a Python program to count the number of lines in a text file."
   ]
  },
  {
   "cell_type": "code",
   "execution_count": null,
   "id": "3ff1b51f",
   "metadata": {},
   "outputs": [],
   "source": [
    "filename = \"sample.txt\"  # replace with file name\n",
    "\n",
    "with open(filename, 'r') as file:\n",
    "    lines = file.readlines()\n",
    "    line_count = len(lines)\n",
    "\n",
    "print(\"Number of lines:\", line_count)\n"
   ]
  },
  {
   "cell_type": "markdown",
   "id": "ed01e59f",
   "metadata": {},
   "source": [
    "Write a Python program to count the frequency of words in a file."
   ]
  },
  {
   "cell_type": "code",
   "execution_count": null,
   "id": "dc5114c3",
   "metadata": {},
   "outputs": [],
   "source": [
    "from collections import Counter\n",
    "\n",
    "filename = \"sample.txt\"\n",
    "\n",
    "with open(filename, 'r') as file:\n",
    "    words = file.read().lower().split()\n",
    "\n",
    "word_freq = Counter(words)\n",
    "\n",
    "print(word_freq)\n"
   ]
  },
  {
   "cell_type": "markdown",
   "id": "1709c84a",
   "metadata": {},
   "source": [
    "1. Write a Python program to get the file size of a plain file.\n",
    "import os #operating system-related function"
   ]
  },
  {
   "cell_type": "code",
   "execution_count": null,
   "id": "e5f8d775",
   "metadata": {},
   "outputs": [],
   "source": [
    "file_path = \"data.txt\"\n",
    "\n",
    "#returns the file size in bytes\n",
    "size = os.path.getsize(file_path)\n",
    "print(f\"The size of {file_path} is {size} bytes.\")\n"
   ]
  },
  {
   "cell_type": "markdown",
   "id": "61a02def",
   "metadata": {},
   "source": [
    "12. Write a Python program to write a list to a file."
   ]
  },
  {
   "cell_type": "code",
   "execution_count": null,
   "id": "f4f6d926",
   "metadata": {},
   "outputs": [],
   "source": [
    "my_list = [\"apple\", \"banana\", \"cherry\"]\n",
    "\n",
    "with(\"fruits.txt\", \"w\") as file:  # \"w\" mode opens the file for writing(creates or overwrites)\n",
    "    for item in my_list:\n",
    "        file.write(item + \"\\n\") # \\n starts a new line after each item\n"
   ]
  },
  {
   "cell_type": "markdown",
   "id": "f6ead801",
   "metadata": {},
   "source": [
    "13. Write a Python program to copy the contents of a file to another file."
   ]
  },
  {
   "cell_type": "code",
   "execution_count": null,
   "id": "ccefa694",
   "metadata": {},
   "outputs": [],
   "source": [
    "with open(\"source.txt\", \"r\") as source:\n",
    "    content = source.read()\n",
    "\n",
    "with open(\"destination\", \"w\") as destination:\n",
    "    destination.write(content)\n"
   ]
  },
  {
   "cell_type": "markdown",
   "id": "6094c556",
   "metadata": {},
   "source": [
    "14. Write a Python program to combine each line from the first file with the corresponding line in the second file."
   ]
  },
  {
   "cell_type": "code",
   "execution_count": null,
   "id": "7adca42d",
   "metadata": {},
   "outputs": [],
   "source": [
    "with open(\"file1.txt\", \"r\") as file1, open(\"file2.txt\",\"r\") as file2:\n",
    "    lines1 = file1.readlines()\n",
    "    lines2 = file2.readlines()\n",
    "\n",
    "combined = []\n",
    "\n",
    "for line1, line2 in zip(lines1, lines2):  # zip() pairs up corresponding lines\n",
    "    combined.append(line1.strip() + \" \" + line2.strip())\n",
    "\n",
    "for line in combined:\n",
    "    print(line)"
   ]
  },
  {
   "cell_type": "markdown",
   "id": "a9fb9ef8",
   "metadata": {},
   "source": [
    "15. Write a Python program to read a random line from a file."
   ]
  },
  {
   "cell_type": "code",
   "execution_count": null,
   "id": "7c478181",
   "metadata": {},
   "outputs": [],
   "source": [
    "import random\n",
    "with open(\"myfile.txt\", \"r\") as file:\n",
    "    lines = file.readlines()\n",
    "\n",
    "random_line = random.choice(lines).strip()\n",
    "print(\"Random line: {random_line}\")\n"
   ]
  },
  {
   "cell_type": "markdown",
   "id": "acd7901d",
   "metadata": {},
   "source": [
    "16. Write a Python program to assess if a file is closed or not."
   ]
  },
  {
   "cell_type": "code",
   "execution_count": null,
   "id": "cef36770",
   "metadata": {},
   "outputs": [],
   "source": [
    "file = open(\"data.txt\", \"r\")\n",
    "print(f\"File closed? {file.closed}\")\n",
    "\n",
    "file.close()\n",
    "print(f\"File closed? {file.closed}\")\n"
   ]
  },
  {
   "cell_type": "markdown",
   "id": "f8cff40d",
   "metadata": {},
   "source": [
    "17. Write a Python program to remove newline characters from a file."
   ]
  },
  {
   "cell_type": "code",
   "execution_count": null,
   "id": "e24282e3",
   "metadata": {},
   "outputs": [],
   "source": [
    "with open(\"myfile\",\"r\") as file:\n",
    "    content = file.read()\n",
    "\n",
    "nolines = content.replace(\"\\n\",\"\")\n",
    "\n",
    "with open(\"myfile.txt\",\"w\") as file:\n",
    "    file.write(nolines)\n"
   ]
  },
  {
   "cell_type": "markdown",
   "id": "1f5ed006",
   "metadata": {},
   "source": [
    "18. Write a Python program that takes a text file as input and returns the number of words in a given text file."
   ]
  },
  {
   "cell_type": "code",
   "execution_count": null,
   "id": "25958483",
   "metadata": {},
   "outputs": [],
   "source": [
    "with open(\"myfile.txt\", \"r\") as file:\n",
    "    content = file.read()\n",
    "\n",
    "#replace commas with spaces\n",
    "content = content.replace(\",\",\"\")\n",
    "\n",
    "# split on whitespaces\n",
    "words = content.split()\n",
    "\n",
    "# count total words\n",
    "word_count = len(words)\n",
    "\n",
    "print(f\"Number of words: {word_count}\")\n"
   ]
  },
  {
   "cell_type": "markdown",
   "id": "189cf9e5",
   "metadata": {},
   "source": [
    "19. Write a Python program to extract characters from various text files and put them into a list."
   ]
  },
  {
   "cell_type": "code",
   "execution_count": null,
   "id": "9a74a85b",
   "metadata": {},
   "outputs": [],
   "source": [
    "file_names = [\"file1.txt\", \"file2.txt\", \"file3.txtpython\"]\n",
    "all_chars = []\n",
    "\n",
    "for file_name in file_names:\n",
    "    with open(file_name,\"r\") as file:\n",
    "        content = file.read()\n",
    "        all_chars.extend(list(content)) # convert string to list and add to all_chars\n",
    "\n",
    "print(all_chars)\n",
    "\n",
    "#extend() adds those characters to the main list\n"
   ]
  },
  {
   "cell_type": "markdown",
   "id": "3c798bd8",
   "metadata": {},
   "source": [
    "20. Write a Python program to generate 26 text files named A.txt, B.txt, and so on up to Z.txt."
   ]
  },
  {
   "cell_type": "code",
   "execution_count": null,
   "id": "0ff41502",
   "metadata": {},
   "outputs": [],
   "source": [
    "import string\n",
    "\n",
    "for letter in string.ascii_uppercase:\n",
    "    file_name = f\"{letter}.txt\"\n",
    "    with open(file_name,\"w\") as file:\n",
    "        pass # pass does nothing, just creates the empty file\n",
    "\n",
    "print(\"26 files created: A.txt to Z.txt\")\n"
   ]
  },
  {
   "cell_type": "markdown",
   "id": "9b166868",
   "metadata": {},
   "source": [
    "21. Write a Python program to create a file where all letters of the English alphabet are listed with a specified number of letters on each line."
   ]
  },
  {
   "cell_type": "code",
   "execution_count": null,
   "id": "5e80820e",
   "metadata": {},
   "outputs": [],
   "source": [
    "import string\n",
    "letters_perline = 5\n",
    "\n",
    "alphabet = string.ascii_uppercase\n",
    "file_name = \"alphabet.txt\"\n",
    "\n",
    "with open(file_name, \"w\") as file:\n",
    "    for i in range(0,len(alphabet), letters_perline):\n",
    "    line = alphabet[i:i+letters_perline]\n",
    "    file.write(line + \"\\n\")\n",
    "\n",
    "print(f\"Alphabet written to {file_name} with {letters_perline} letters per line\")\n"
   ]
  }
 ],
 "metadata": {
  "kernelspec": {
   "display_name": "Python 3",
   "language": "python",
   "name": "python3"
  },
  "language_info": {
   "codemirror_mode": {
    "name": "ipython",
    "version": 3
   },
   "file_extension": ".py",
   "mimetype": "text/x-python",
   "name": "python",
   "nbconvert_exporter": "python",
   "pygments_lexer": "ipython3",
   "version": "3.13.7"
  }
 },
 "nbformat": 4,
 "nbformat_minor": 5
}

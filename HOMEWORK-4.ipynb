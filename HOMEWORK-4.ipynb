{
 "cells": [
  {
   "cell_type": "markdown",
   "id": "24fd89ac",
   "metadata": {},
   "source": [
    "1. Sort a Dictionary by Value\n"
   ]
  },
  {
   "cell_type": "code",
   "execution_count": 3,
   "id": "5631914d",
   "metadata": {},
   "outputs": [
    {
     "name": "stdout",
     "output_type": "stream",
     "text": [
      "Ascending: {'Samir': 14, 'Akmal': 17, 'Aziz': 20, 'Asad': 22}\n",
      "Descending: {'Asad': 22, 'Aziz': 20, 'Akmal': 17, 'Samir': 14}\n"
     ]
    }
   ],
   "source": [
    "age = {\n",
    "    \"Akmal\":17,\n",
    "    \"Aziz\":20,\n",
    "    \"Samir\":14,\n",
    "    \"Asad\":22\n",
    "}\n",
    "ascending = dict(sorted(age.items(),key=lambda item: item[1]))\n",
    "print(\"Ascending:\",ascending)\n",
    "descending = dict(sorted(age.items(),key=lambda item: item[1],reverse=  True))\n",
    "print(\"Descending:\",descending)"
   ]
  },
  {
   "cell_type": "markdown",
   "id": "b9153f1d",
   "metadata": {},
   "source": [
    "2. Add a Key to a Dictionary\n"
   ]
  },
  {
   "cell_type": "code",
   "execution_count": 5,
   "id": "1def7f30",
   "metadata": {},
   "outputs": [
    {
     "name": "stdout",
     "output_type": "stream",
     "text": [
      "{0: 10, 1: 20, 2: 30}\n"
     ]
    }
   ],
   "source": [
    "d = {0: 10, 1: 20}\n",
    "d[2]=30\n",
    "print(d)"
   ]
  },
  {
   "cell_type": "markdown",
   "id": "b75566c5",
   "metadata": {},
   "source": [
    "3. Concatenate Multiple Dictionaries\n"
   ]
  },
  {
   "cell_type": "code",
   "execution_count": 7,
   "id": "93bf5190",
   "metadata": {},
   "outputs": [
    {
     "name": "stdout",
     "output_type": "stream",
     "text": [
      "{1: 10, 2: 20, 3: 30, 4: 40, 5: 50, 6: 60}\n"
     ]
    }
   ],
   "source": [
    "dic1 = {1: 10, 2: 20}\n",
    "dic2 = {3: 30, 4: 40}\n",
    "dic3 = {5: 50, 6: 60}\n",
    "\n",
    "dic = {**dic1,**dic2,**dic3}\n",
    "print(dic)"
   ]
  },
  {
   "cell_type": "markdown",
   "id": "392e962c",
   "metadata": {},
   "source": [
    "4. Generate a Dictionary with Squares\n"
   ]
  },
  {
   "cell_type": "code",
   "execution_count": 8,
   "id": "5cb89c2a",
   "metadata": {},
   "outputs": [
    {
     "name": "stdout",
     "output_type": "stream",
     "text": [
      "{1: 1, 2: 4, 3: 9, 4: 16, 5: 25}\n"
     ]
    }
   ],
   "source": [
    "n = int(input(\"Enter the value of n:\"))\n",
    "square = {x:x*x for x in range(1,n+1)}\n",
    "print(square)"
   ]
  },
  {
   "cell_type": "markdown",
   "id": "064f8d59",
   "metadata": {},
   "source": [
    "5. Dictionary of Squares (1 to 15)\n"
   ]
  },
  {
   "cell_type": "code",
   "execution_count": 9,
   "id": "0a72b5f4",
   "metadata": {},
   "outputs": [
    {
     "name": "stdout",
     "output_type": "stream",
     "text": [
      "{1: 1, 2: 4, 3: 9, 4: 16, 5: 25, 6: 36, 7: 49, 8: 64, 9: 81, 10: 100, 11: 121, 12: 144, 13: 169, 14: 196, 15: 225}\n"
     ]
    }
   ],
   "source": [
    "n = int(input(\"Enter the value of n:\"))\n",
    "square = {x:x*x for x in range(1,n+1)}\n",
    "print(square)"
   ]
  },
  {
   "cell_type": "markdown",
   "id": "830ffe20",
   "metadata": {},
   "source": [
    "1. Create a Set\n"
   ]
  },
  {
   "cell_type": "code",
   "execution_count": 10,
   "id": "8f8667b5",
   "metadata": {},
   "outputs": [
    {
     "name": "stdout",
     "output_type": "stream",
     "text": [
      "{'apple', 'banana', 'orange'}\n"
     ]
    }
   ],
   "source": [
    "fruits = {\"apple\",\"banana\",\"orange\"}\n",
    "print(fruits)"
   ]
  },
  {
   "cell_type": "markdown",
   "id": "02e509b1",
   "metadata": {},
   "source": [
    "2. Iterate Over a Set\n"
   ]
  },
  {
   "cell_type": "code",
   "execution_count": 11,
   "id": "ad0da708",
   "metadata": {},
   "outputs": [
    {
     "name": "stdout",
     "output_type": "stream",
     "text": [
      "apple\n",
      "banana\n",
      "mango\n",
      "cherry\n"
     ]
    }
   ],
   "source": [
    "fruits = {\"apple\", \"banana\", \"cherry\", \"mango\"}\n",
    "for fruit in fruits:\n",
    "    print(fruit)"
   ]
  },
  {
   "cell_type": "markdown",
   "id": "cb87fbdb",
   "metadata": {},
   "source": [
    "3. Add Member(s) to a Set\n"
   ]
  },
  {
   "cell_type": "code",
   "execution_count": 17,
   "id": "0254e03a",
   "metadata": {},
   "outputs": [
    {
     "name": "stdout",
     "output_type": "stream",
     "text": [
      "{1, 2, 3, 4, 5}\n"
     ]
    }
   ],
   "source": [
    "num = {1,2,3}\n",
    "num.update({4,5})\n",
    "print(num)"
   ]
  },
  {
   "cell_type": "markdown",
   "id": "ca10e5fd",
   "metadata": {},
   "source": [
    "4. Remove Item(s) from a Set\n"
   ]
  },
  {
   "cell_type": "code",
   "execution_count": 15,
   "id": "ef5dd4c0",
   "metadata": {},
   "outputs": [
    {
     "name": "stdout",
     "output_type": "stream",
     "text": [
      "{1, 2, 3, 4}\n"
     ]
    }
   ],
   "source": [
    "num = {1,2,3,4,5}\n",
    "num.remove(5)\n",
    "print(num)\n"
   ]
  },
  {
   "cell_type": "markdown",
   "id": "0a90fe61",
   "metadata": {},
   "source": [
    "5. Remove an Item if Present in the Set\n"
   ]
  },
  {
   "cell_type": "code",
   "execution_count": 19,
   "id": "699e8d94",
   "metadata": {},
   "outputs": [
    {
     "name": "stdout",
     "output_type": "stream",
     "text": [
      "{'apple', 'cherry'}\n"
     ]
    }
   ],
   "source": [
    "fruits = {\"apple\", \"banana\", \"cherry\"}\n",
    "fruits.discard(\"banana\")\n",
    "fruits.discard(\"pear\")\n",
    "print(fruits)"
   ]
  },
  {
   "cell_type": "code",
   "execution_count": null,
   "id": "f4614419",
   "metadata": {},
   "outputs": [],
   "source": []
  }
 ],
 "metadata": {
  "kernelspec": {
   "display_name": "Python 3",
   "language": "python",
   "name": "python3"
  },
  "language_info": {
   "codemirror_mode": {
    "name": "ipython",
    "version": 3
   },
   "file_extension": ".py",
   "mimetype": "text/x-python",
   "name": "python",
   "nbconvert_exporter": "python",
   "pygments_lexer": "ipython3",
   "version": "3.13.7"
  }
 },
 "nbformat": 4,
 "nbformat_minor": 5
}
